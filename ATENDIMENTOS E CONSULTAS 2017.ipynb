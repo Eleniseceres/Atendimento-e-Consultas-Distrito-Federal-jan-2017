{
 "cells": [
  {
   "cell_type": "code",
   "execution_count": 6,
   "metadata": {},
   "outputs": [],
   "source": [
    "#Importando Biblioteca\n",
    "import pandas as pd\n",
    "#Matplotlib grafico inline\n",
    "%matplotlib inline"
   ]
  },
  {
   "cell_type": "code",
   "execution_count": 59,
   "metadata": {},
   "outputs": [],
   "source": [
    "#Importando o arquivo com apenas algumas colunas\n",
    "atendimentosconsultas = pd.read_csv('C:/Users/eleni/Documents/sia012017.csv', encoding='cp1252', usecols=[1, 2, 4, 7, 8, 10])"
   ]
  },
  {
   "cell_type": "code",
   "execution_count": 60,
   "metadata": {},
   "outputs": [
    {
     "data": {
      "text/html": [
       "<div>\n",
       "<style scoped>\n",
       "    .dataframe tbody tr th:only-of-type {\n",
       "        vertical-align: middle;\n",
       "    }\n",
       "\n",
       "    .dataframe tbody tr th {\n",
       "        vertical-align: top;\n",
       "    }\n",
       "\n",
       "    .dataframe thead th {\n",
       "        text-align: right;\n",
       "    }\n",
       "</style>\n",
       "<table border=\"1\" class=\"dataframe\">\n",
       "  <thead>\n",
       "    <tr style=\"text-align: right;\">\n",
       "      <th></th>\n",
       "      <th>estabelecimento_cnes</th>\n",
       "      <th>complexidade</th>\n",
       "      <th>grupo</th>\n",
       "      <th>procedimento</th>\n",
       "      <th>quantidade</th>\n",
       "      <th>carater_atendimento</th>\n",
       "    </tr>\n",
       "  </thead>\n",
       "  <tbody>\n",
       "    <tr>\n",
       "      <th>0</th>\n",
       "      <td>0010499 HRT Hospital Regional de Taguatinga</td>\n",
       "      <td>Atenção Básica</td>\n",
       "      <td>01- Ações de Promoção e Prevenção em Saúde</td>\n",
       "      <td>Aplicação de Cariostático (por Dente)</td>\n",
       "      <td>18</td>\n",
       "      <td>Eletivo</td>\n",
       "    </tr>\n",
       "    <tr>\n",
       "      <th>1</th>\n",
       "      <td>0010537 HMIB Hospital Materno Infantil de Bras...</td>\n",
       "      <td>Atenção Básica</td>\n",
       "      <td>01- Ações de Promoção e Prevenção em Saúde</td>\n",
       "      <td>Aplicação de Cariostático (por Dente)</td>\n",
       "      <td>1</td>\n",
       "      <td>Eletivo</td>\n",
       "    </tr>\n",
       "    <tr>\n",
       "      <th>2</th>\n",
       "      <td>0010499 HRT Hospital Regional de Taguatinga</td>\n",
       "      <td>Atenção Básica</td>\n",
       "      <td>01- Ações de Promoção e Prevenção em Saúde</td>\n",
       "      <td>Aplicação de Cariostático (por Dente)</td>\n",
       "      <td>26</td>\n",
       "      <td>Eletivo</td>\n",
       "    </tr>\n",
       "    <tr>\n",
       "      <th>3</th>\n",
       "      <td>0010499 HRT Hospital Regional de Taguatinga</td>\n",
       "      <td>Atenção Básica</td>\n",
       "      <td>01- Ações de Promoção e Prevenção em Saúde</td>\n",
       "      <td>Aplicação de Cariostático (por Dente)</td>\n",
       "      <td>12</td>\n",
       "      <td>Eletivo</td>\n",
       "    </tr>\n",
       "    <tr>\n",
       "      <th>4</th>\n",
       "      <td>0010499 HRT Hospital Regional de Taguatinga</td>\n",
       "      <td>Atenção Básica</td>\n",
       "      <td>01- Ações de Promoção e Prevenção em Saúde</td>\n",
       "      <td>Aplicação de Cariostático (por Dente)</td>\n",
       "      <td>12</td>\n",
       "      <td>Eletivo</td>\n",
       "    </tr>\n",
       "  </tbody>\n",
       "</table>\n",
       "</div>"
      ],
      "text/plain": [
       "                                estabelecimento_cnes    complexidade  \\\n",
       "0        0010499 HRT Hospital Regional de Taguatinga  Atenção Básica   \n",
       "1  0010537 HMIB Hospital Materno Infantil de Bras...  Atenção Básica   \n",
       "2        0010499 HRT Hospital Regional de Taguatinga  Atenção Básica   \n",
       "3        0010499 HRT Hospital Regional de Taguatinga  Atenção Básica   \n",
       "4        0010499 HRT Hospital Regional de Taguatinga  Atenção Básica   \n",
       "\n",
       "                                        grupo  \\\n",
       "0  01- Ações de Promoção e Prevenção em Saúde   \n",
       "1  01- Ações de Promoção e Prevenção em Saúde   \n",
       "2  01- Ações de Promoção e Prevenção em Saúde   \n",
       "3  01- Ações de Promoção e Prevenção em Saúde   \n",
       "4  01- Ações de Promoção e Prevenção em Saúde   \n",
       "\n",
       "                            procedimento  quantidade carater_atendimento  \n",
       "0  Aplicação de Cariostático (por Dente)          18             Eletivo  \n",
       "1  Aplicação de Cariostático (por Dente)           1             Eletivo  \n",
       "2  Aplicação de Cariostático (por Dente)          26             Eletivo  \n",
       "3  Aplicação de Cariostático (por Dente)          12             Eletivo  \n",
       "4  Aplicação de Cariostático (por Dente)          12             Eletivo  "
      ]
     },
     "execution_count": 60,
     "metadata": {},
     "output_type": "execute_result"
    }
   ],
   "source": [
    "#Para visualizar as 5 primeiras linhas\n",
    "atendimentosconsultas.head()"
   ]
  },
  {
   "cell_type": "code",
   "execution_count": 61,
   "metadata": {},
   "outputs": [],
   "source": [
    "#Trocando o nome das colunas\n",
    "atendimentosconsultas.columns = ['Hospital', 'Complexidade', 'Grupo','Procedimento', 'Quantidade', 'Atendimento']"
   ]
  },
  {
   "cell_type": "code",
   "execution_count": 64,
   "metadata": {},
   "outputs": [
    {
     "data": {
      "text/html": [
       "<div>\n",
       "<style scoped>\n",
       "    .dataframe tbody tr th:only-of-type {\n",
       "        vertical-align: middle;\n",
       "    }\n",
       "\n",
       "    .dataframe tbody tr th {\n",
       "        vertical-align: top;\n",
       "    }\n",
       "\n",
       "    .dataframe thead th {\n",
       "        text-align: right;\n",
       "    }\n",
       "</style>\n",
       "<table border=\"1\" class=\"dataframe\">\n",
       "  <thead>\n",
       "    <tr style=\"text-align: right;\">\n",
       "      <th></th>\n",
       "      <th>Hospital</th>\n",
       "      <th>Complexidade</th>\n",
       "      <th>Grupo</th>\n",
       "      <th>Procedimento</th>\n",
       "      <th>Quantidade</th>\n",
       "      <th>Atendimento</th>\n",
       "    </tr>\n",
       "  </thead>\n",
       "  <tbody>\n",
       "    <tr>\n",
       "      <th>0</th>\n",
       "      <td>0010499 HRT Hospital Regional de Taguatinga</td>\n",
       "      <td>Atenção Básica</td>\n",
       "      <td>01- Ações de Promoção e Prevenção em Saúde</td>\n",
       "      <td>Aplicação de Cariostático (por Dente)</td>\n",
       "      <td>18</td>\n",
       "      <td>Eletivo</td>\n",
       "    </tr>\n",
       "    <tr>\n",
       "      <th>1</th>\n",
       "      <td>0010537 HMIB Hospital Materno Infantil de Bras...</td>\n",
       "      <td>Atenção Básica</td>\n",
       "      <td>01- Ações de Promoção e Prevenção em Saúde</td>\n",
       "      <td>Aplicação de Cariostático (por Dente)</td>\n",
       "      <td>1</td>\n",
       "      <td>Eletivo</td>\n",
       "    </tr>\n",
       "    <tr>\n",
       "      <th>2</th>\n",
       "      <td>0010499 HRT Hospital Regional de Taguatinga</td>\n",
       "      <td>Atenção Básica</td>\n",
       "      <td>01- Ações de Promoção e Prevenção em Saúde</td>\n",
       "      <td>Aplicação de Cariostático (por Dente)</td>\n",
       "      <td>26</td>\n",
       "      <td>Eletivo</td>\n",
       "    </tr>\n",
       "    <tr>\n",
       "      <th>3</th>\n",
       "      <td>0010499 HRT Hospital Regional de Taguatinga</td>\n",
       "      <td>Atenção Básica</td>\n",
       "      <td>01- Ações de Promoção e Prevenção em Saúde</td>\n",
       "      <td>Aplicação de Cariostático (por Dente)</td>\n",
       "      <td>12</td>\n",
       "      <td>Eletivo</td>\n",
       "    </tr>\n",
       "    <tr>\n",
       "      <th>4</th>\n",
       "      <td>0010499 HRT Hospital Regional de Taguatinga</td>\n",
       "      <td>Atenção Básica</td>\n",
       "      <td>01- Ações de Promoção e Prevenção em Saúde</td>\n",
       "      <td>Aplicação de Cariostático (por Dente)</td>\n",
       "      <td>12</td>\n",
       "      <td>Eletivo</td>\n",
       "    </tr>\n",
       "  </tbody>\n",
       "</table>\n",
       "</div>"
      ],
      "text/plain": [
       "                                            Hospital    Complexidade  \\\n",
       "0        0010499 HRT Hospital Regional de Taguatinga  Atenção Básica   \n",
       "1  0010537 HMIB Hospital Materno Infantil de Bras...  Atenção Básica   \n",
       "2        0010499 HRT Hospital Regional de Taguatinga  Atenção Básica   \n",
       "3        0010499 HRT Hospital Regional de Taguatinga  Atenção Básica   \n",
       "4        0010499 HRT Hospital Regional de Taguatinga  Atenção Básica   \n",
       "\n",
       "                                        Grupo  \\\n",
       "0  01- Ações de Promoção e Prevenção em Saúde   \n",
       "1  01- Ações de Promoção e Prevenção em Saúde   \n",
       "2  01- Ações de Promoção e Prevenção em Saúde   \n",
       "3  01- Ações de Promoção e Prevenção em Saúde   \n",
       "4  01- Ações de Promoção e Prevenção em Saúde   \n",
       "\n",
       "                            Procedimento  Quantidade Atendimento  \n",
       "0  Aplicação de Cariostático (por Dente)          18     Eletivo  \n",
       "1  Aplicação de Cariostático (por Dente)           1     Eletivo  \n",
       "2  Aplicação de Cariostático (por Dente)          26     Eletivo  \n",
       "3  Aplicação de Cariostático (por Dente)          12     Eletivo  \n",
       "4  Aplicação de Cariostático (por Dente)          12     Eletivo  "
      ]
     },
     "execution_count": 64,
     "metadata": {},
     "output_type": "execute_result"
    }
   ],
   "source": [
    "atendimentosconsultas.head()"
   ]
  },
  {
   "cell_type": "code",
   "execution_count": 66,
   "metadata": {},
   "outputs": [
    {
     "data": {
      "text/html": [
       "<div>\n",
       "<style scoped>\n",
       "    .dataframe tbody tr th:only-of-type {\n",
       "        vertical-align: middle;\n",
       "    }\n",
       "\n",
       "    .dataframe tbody tr th {\n",
       "        vertical-align: top;\n",
       "    }\n",
       "\n",
       "    .dataframe thead th {\n",
       "        text-align: right;\n",
       "    }\n",
       "</style>\n",
       "<table border=\"1\" class=\"dataframe\">\n",
       "  <thead>\n",
       "    <tr style=\"text-align: right;\">\n",
       "      <th></th>\n",
       "      <th>Quantidade</th>\n",
       "    </tr>\n",
       "  </thead>\n",
       "  <tbody>\n",
       "    <tr>\n",
       "      <th>count</th>\n",
       "      <td>174870.000000</td>\n",
       "    </tr>\n",
       "    <tr>\n",
       "      <th>mean</th>\n",
       "      <td>19.044782</td>\n",
       "    </tr>\n",
       "    <tr>\n",
       "      <th>std</th>\n",
       "      <td>231.699350</td>\n",
       "    </tr>\n",
       "    <tr>\n",
       "      <th>min</th>\n",
       "      <td>0.000000</td>\n",
       "    </tr>\n",
       "    <tr>\n",
       "      <th>25%</th>\n",
       "      <td>1.000000</td>\n",
       "    </tr>\n",
       "    <tr>\n",
       "      <th>50%</th>\n",
       "      <td>1.000000</td>\n",
       "    </tr>\n",
       "    <tr>\n",
       "      <th>75%</th>\n",
       "      <td>5.000000</td>\n",
       "    </tr>\n",
       "    <tr>\n",
       "      <th>max</th>\n",
       "      <td>69905.000000</td>\n",
       "    </tr>\n",
       "  </tbody>\n",
       "</table>\n",
       "</div>"
      ],
      "text/plain": [
       "          Quantidade\n",
       "count  174870.000000\n",
       "mean       19.044782\n",
       "std       231.699350\n",
       "min         0.000000\n",
       "25%         1.000000\n",
       "50%         1.000000\n",
       "75%         5.000000\n",
       "max     69905.000000"
      ]
     },
     "execution_count": 66,
     "metadata": {},
     "output_type": "execute_result"
    }
   ],
   "source": [
    "#Descrevendo Colunas numéricas\n",
    "atendimentosconsultas.describe()"
   ]
  },
  {
   "cell_type": "code",
   "execution_count": 68,
   "metadata": {},
   "outputs": [
    {
     "data": {
      "text/plain": [
       "Hospital        object\n",
       "Complexidade    object\n",
       "Grupo           object\n",
       "Procedimento    object\n",
       "Quantidade       int64\n",
       "Atendimento     object\n",
       "dtype: object"
      ]
     },
     "execution_count": 68,
     "metadata": {},
     "output_type": "execute_result"
    }
   ],
   "source": [
    "#Tipo das Colunas\n",
    "atendimentosconsultas.dtypes"
   ]
  },
  {
   "cell_type": "code",
   "execution_count": 69,
   "metadata": {},
   "outputs": [
    {
     "data": {
      "text/plain": [
       "array(['0010499 HRT Hospital Regional de Taguatinga',\n",
       "       '0010537 HMIB Hospital Materno Infantil de Brasília',\n",
       "       '0010588 Policlínica de Taguatinga',\n",
       "       '5717515 HRSM Hospital Regional de Santa Maria',\n",
       "       '0010464 HRAN Hospital Regional da Asa Norte',\n",
       "       '0010480 HRC Hospital Regional de Ceilândia',\n",
       "       '0010456 HBDF Hospital de Base do Distrito Federal',\n",
       "       '0010510 HUB Hospital Universitario de Brasília',\n",
       "       '6876617 HCB Hospital da Criança de Brasília José Alencar',\n",
       "       '0010502 HRS Hospital Regional de Sobradinho',\n",
       "       '3276678 Instituto de Cardiologia do Distrito Federal',\n",
       "       '0010472 HRG Hospital Regional do Gama',\n",
       "       '0010529 HRPl Hospital Regional de Planaltina',\n",
       "       '0010596 Hospital Dia da Asa Sul', '5598575 Policlínica do Gama',\n",
       "       '2645157 HRPa Hospital Regional do Paranoá',\n",
       "       '2814897 HRGu Hospital Regional do Guará', '2779056 Idr',\n",
       "       '2779420 Soclimed', '3224228 Renal Care',\n",
       "       '5479878 Seane Servico de Assistencia Clin',\n",
       "       '3459918 Nephron Brasília Servicos Medicos', '0011304 Nephron',\n",
       "       '0011312 Cdrt', '0011371 LACEN DF', '7181426 APAE DF',\n",
       "       '7078730 UPA Recanto das Emas',\n",
       "       '2649527 HAB Hospital de Apoio de Brasília',\n",
       "       '7465157 UPA Ceilândia',\n",
       "       '0010545 HRBz Hospital Regional de Brazlândia',\n",
       "       '7116756 UPA São Sebastião',\n",
       "       '0011193 Central de Radiologia de Taguatinga',\n",
       "       '2616955 Radiograph Clínica de Imagem',\n",
       "       '3018520 Hospital São Francisco', '3056414 Diagnostik',\n",
       "       '3077098 Ceal Lp', '0011118 UBS 01 Guará',\n",
       "       '0011134 CSRE 02 Recanto das Emas',\n",
       "       '0010804 UBS 01 Recanto das Emas', '0010847 UBS 3 Gama',\n",
       "       '0011010 UBS 5 Ceilândia', '0011029 UBS 6 Ceilândia',\n",
       "       '0011088 UBS 1 Planaltina', '0011207 UBS 10 Ceilândia',\n",
       "       '0011266 UBS 02 Guará', '0010669 UBS 2 Santa Maria',\n",
       "       '0010685 UBS 04 Samambaia', '0010782 UBS 1 Santa Maria',\n",
       "       '6216021 UBS 5 Planaltina',\n",
       "       '3677044 UBS 14 Condominio Prive Ceilândia',\n",
       "       '0011037 UBS 7 Ceilândia', '0011274 UBS 03 Guará',\n",
       "       '0010936 UBS 03 Taguatinga', '0010987 UBS 2 Ceilândia',\n",
       "       '0010650 UBS 2 Planaltina',\n",
       "       '3144542 UBS 13 Boa Esperança Ceilândia',\n",
       "       '3144550 UBS 3 Santa Maria', '2660199 UBS 03 Riacho Fundo II',\n",
       "       '6662358 UBS 2 Brazlândia', '3144615 UBS 12 Ponte Alta Gama',\n",
       "       '2673894 UBS 8 DVO Gama',\n",
       "       '9056963 UBS 11 Vicente Pires Taguatinga', '7360568 UBS 10 Gama',\n",
       "       '0010820 UBS 1 Gama', '0010839 UBS 2 Gama',\n",
       "       '3144569 UBS 7 Santa Maria', '3144593 UBS 5 Santa Maria',\n",
       "       '6770681 UBS 3 Vale dos Pinheiros Sobradinho II',\n",
       "       '7053754 UBS 06 Samambaia',\n",
       "       '7347715 UBS 1 ESF Sol Nascente Trecho II Ceilândia',\n",
       "       '0011657 UBS 04 Lucio Costa Guará', '2617269 UBS 08 Taguatinga',\n",
       "       '3410196 UBS 02 Riacho Fundo II', '5038669 UBS 01 Riacho Fundo II',\n",
       "       '0011096 UBS 3 Planaltina', '0011045 UBS 8 Ceilândia',\n",
       "       '0011061 UBS 11 Ceilândia', '7493576 UBS 4 Santa Maria',\n",
       "       '0011002 UBS 4 Ceilândia', '7740581 UBS 9 Santa Maria',\n",
       "       '0011053 UBS 9 Ceilândia',\n",
       "       '7347723 UBS 15 Vila Olímpica Ceilândia',\n",
       "       '0010995 UBS 3 Ceilândia', '0011185 UBS 01 Candangolândia',\n",
       "       '3027635 UBS 15 PFDF Gama', '3742822 UBS 10 Taguatinga',\n",
       "       '2779374 UBS 01 Estrutural', '0010898 UBS 7 Gama',\n",
       "       '7236778 UBS 02 Núcleo Bandeirante', '0011215 UBS 1 Brazlândia',\n",
       "       '3144631 UBS 5 Chapadinha Brazlândia', '0010863 UBS 5 Gama',\n",
       "       '7988303 CER Centro Especializado em Reabilitação',\n",
       "       '7055919 CAPS Ad Flor de Lotus', '5554349 CAPS Ad II Sobradinho',\n",
       "       '2649535 ISM Instituto de Saúde Mental',\n",
       "       '5447410 CAPS II de Taguatinga',\n",
       "       '7238703 CAPS Ad III de Taguatinga',\n",
       "       '0011339 FHB Fundacao Hemocentro de Brasília',\n",
       "       '0011258 UBS 1 Sobradinho II', '0010928 UBS 02 Taguatinga',\n",
       "       '5050359 UBS 8 Vale do Amanhecer Planaltina',\n",
       "       '0010944 UBS 04 Taguatinga', '6216013 UBS 4 Planaltina',\n",
       "       '0010960 UBS 07 Taguatinga', '6268269 UBS 1 Itapoã',\n",
       "       '2617293 UBS 12 Ceilândia', '0010952 UBS 06 Taguatinga',\n",
       "       '0010677 UBS 03 Samambaia', '0010790 UBS 1 São Sebastião',\n",
       "       '7686730 UBS 5 Setor de Mansoes Sobradinho II',\n",
       "       '0011126 UBS 01 Núcleo Bandeirante',\n",
       "       '7108923 UBS 09 Areal Taguatinga', '7368895 UBS 2 Sobradinho II',\n",
       "       '3144658 UBS 3 Veredas Brazlândia', '7299877 UBS 07 Samambaia',\n",
       "       '3055450 Cbv Centro Brasileiro da Visao',\n",
       "       '2816741 Farmacia de Alto Custo Asa Sul',\n",
       "       '6926967 Farmacia de Alto Custo Ceilândia',\n",
       "       '7382243 Oficina Ortopédica do Distrito Federal',\n",
       "       '7049188 Central de Regulação',\n",
       "       '3206874 Banco de Olhos do Distrito Federal', '0010855 UBS 4 Gama',\n",
       "       '0010901 UBS 01 Taguatinga', '3144607 UBS 6 Santa Maria',\n",
       "       '3212025 UBS 7 Residencial do Bosque 2 São Sebastião',\n",
       "       '3254887 UBS 9 Setor Tradicional São Sebastião',\n",
       "       '3254909 UBS 8 Vila do Boa São Sebastião',\n",
       "       '3027643 UBS 17 PDF II São Sebastião', '3027651 UBS 01 CPP SIA',\n",
       "       '3028003 UBS 14 CDP São Sebastião',\n",
       "       '2673924 UBS 04 Caub I Riacho Fundo II', '0011681 UBS 01 Park Way',\n",
       "       '0011509 UBS 7 Incra 08 Brazlândia', '3372375 CAPS Ad II Guará',\n",
       "       '3286932 UBS 10 João Candido São Sebastião',\n",
       "       '3144623 UBS 10 Recanto das Emas',\n",
       "       '3212068 UBS 5 Residencial Oeste São Sebastião',\n",
       "       '3286959 UBS 2 Itapoã', '0010626 UBS 05 Taguatinga',\n",
       "       '7417632 UBS 04 Recanto das Emas',\n",
       "       '7170939 UBS 03 Recanto das Emas', '2804107 UBS 6 Cariru Paranoá',\n",
       "       '3028011 UBS 15 CIR São Sebastião', '6921736 UBS 05 Samambaia',\n",
       "       '7566530 UBS 16 PDF I São Sebastião',\n",
       "       '0011495 UBS 6 Almecegas Brazlândia',\n",
       "       '0011606 UBS 4 Jardim II Paranoá',\n",
       "       '0011614 UBS 5 Capão Seco Paranoá',\n",
       "       '3742865 UBS 4 Veredas II Brazlândia',\n",
       "       '3742873 UBS 4 Residencial do Bosque São Sebastião',\n",
       "       '0011630 UBS 3 PADDF Paranoá',\n",
       "       '2360233 UBS 7 Jardim Roriz Planaltina',\n",
       "       '7114397 UBS 08 Samambaia', '0010871 UBS 6 Gama',\n",
       "       '0010634 UBS 1 Paranoá', '0011150 UBS 02 Asa Sul',\n",
       "       '2779404 UBS 9 Engenho das Lages Gama',\n",
       "       '0011363 UBS 2 Nova Betania São Sebastião',\n",
       "       '0010758 UBS 2 Cruzeiro CSB 14', '0011223 UBS 1 Sobradinho',\n",
       "       '2617358 UBS 1 Varjão', '7559194 UBS 8 Santa Maria',\n",
       "       '7526504 UBS 05 Caub II Riacho Fundo II',\n",
       "       '7771479 UBS 11 Samambaia', '3286975 UBS 2 Quadra 18 Paranoá',\n",
       "       '2650355 Casa de Parto de São Sebastião',\n",
       "       '0011347 Adolescentro Brasília', '7360592 UBS 13 Gama',\n",
       "       '6585760 CAPS AdIII Ceilândia',\n",
       "       '6736602 CERPIS Centro de Referência em Práticas Integrativas em Saúde',\n",
       "       '0010731 UBS 1 Cruzeiro UBS 09', '0011177 UBS 1 Lago Norte CSB 10',\n",
       "       '2804387 UBS 6 Lago Oeste Sobradinho',\n",
       "       '0010707 UBS 1 Asa Norte CSB 11', '7902158 Carreta Odontologica 1',\n",
       "       '0010693 UBS 01 Asa Sul', '2672235 UBS 9 Santos Dumont Planaltina',\n",
       "       '7111924 UPA Núcleo Bandeirante',\n",
       "       '3212033 UBS 3 Morro Azul São Sebastião',\n",
       "       '3742857 UBS 09 Samambaia',\n",
       "       '3781402 UBS 11 Morro da Cruz São Sebastião',\n",
       "       '3781437 UBS 02 Riacho Fundo I',\n",
       "       '3144666 UBS 17 Jardim Morumbi Planaltina',\n",
       "       '3212076 UBS 13 Vila Nova 1 São Sebastião',\n",
       "       '7075596 UBS 7 Café Sem Troco Paranoá',\n",
       "       '7975295 UBS Cavas de Baixo São Sebastião',\n",
       "       '7423489 UBS 12 São Jose São Sebastião',\n",
       "       '0011576 UBS 11 Rajadinha Planaltina',\n",
       "       '3212017 UBS 6 São Francisco São Sebastião',\n",
       "       '0010618 HSVP Hospital São Vicente de Paulo',\n",
       "       '6387527 Cerest Estadual', '6770657 UBS 5 Basevi Sobradinho',\n",
       "       '0010723 UBS 3 Asa Norte CSB 13',\n",
       "       '2804174 UBS 10 Taquara Planaltina',\n",
       "       '3144577 UBS 11 Ponte Alta Norte Gama',\n",
       "       '2804123 UBS 12 Bica do Der Planaltina',\n",
       "       '7687079 UBS 4 Rota do Cavalo Sobradinho',\n",
       "       '0011665 Laboratório Regional do Guará',\n",
       "       '0010715 UBS 2 Asa Norte CSB 12',\n",
       "       '0011479 Laboratório Regional de Ceilândia',\n",
       "       '7592477 UPA Sobradinho',\n",
       "       '0011142 COMPP Centro de Orientação Médico Psicopedagógico',\n",
       "       '0011231 UBS 2 Sobradinho', '7843135 UBS 16 Atp Gama',\n",
       "       '2672227 UBS 15 Rio Preto Planaltina',\n",
       "       '0011622 UBS 13 São Jose Planaltina',\n",
       "       '0011355 UBS 4 Vila Planalto',\n",
       "       '6770665 UBS 4 Setor de Mansoes Sobradinho II',\n",
       "       '7765916 Central de Regulação do SAMU Distrito Federal',\n",
       "       '7990820 SAMU DF 02 USA Gama', '7942524 SAMU DF 10 USA NUSAm',\n",
       "       '7990847 SAMU DF 04 USA Recanto das Emas',\n",
       "       '7991444 SAMU DF 73 USA Taguatinga',\n",
       "       '7991452 SAMU DF 75 USA Plano Piloto',\n",
       "       '7991460 SAMU DF 76 USA Neo',\n",
       "       '7990839 SAMU DF 03 USB Taguatinga III',\n",
       "       '7990871 SAMU DF 06 USB Plano Piloto II',\n",
       "       '7990901 SAMU DF 07 USB Bandeirante',\n",
       "       '7990944 SAMU DF 12 USB Plano Piloto I',\n",
       "       '7990952 SAMU DF 13 USB Paranoá I',\n",
       "       '7990979 SAMU DF 15 USB Taguatinga II',\n",
       "       '7990987 SAMU DF 16 USB Planaltina I',\n",
       "       '7991029 SAMU DF 17 USB Planaltina II',\n",
       "       '7991053 SAMU DF 18 USB Sobradinho I',\n",
       "       '7991096 SAMU DF 19 USB Gama I',\n",
       "       '7991142 SAMU DF 20 USB Santa Maria I',\n",
       "       '7991150 SAMU DF 21 USB Santa Maria II',\n",
       "       '7991169 SAMU DF 22 USB Samambaia II',\n",
       "       '7991177 SAMU DF 23 USB Ceilândia I',\n",
       "       '7990960 SAMU DF 14 USB Taguatinga I',\n",
       "       '7991193 SAMU DF 27 USB Recanto das Emas II',\n",
       "       '7991207 SAMU DF 29 USB Ceilândia II',\n",
       "       '7991215 SAMU DF 30 USB Ceilândia III',\n",
       "       '7991223 SAMU DF 31 USB Ceilândia IV',\n",
       "       '7991231 SAMU DF 32 USB Brazlândia I',\n",
       "       '7991290 SAMU DF 33 USB Plano Piloto III',\n",
       "       '7991304 SAMU DF 35 USB Gama II',\n",
       "       '7991339 SAMU DF 37 USB São Sebastião I',\n",
       "       '7991363 SAMU DF 38 USB Recanto das Emas I',\n",
       "       '7991185 SAMU DF 24 USB Samambaia I',\n",
       "       '7991436 SAMU DF 59 USB Sobradinho II',\n",
       "       '9002960 SAMU DF 08 USB Guará I',\n",
       "       '7990804 SAMU DF 01 USA Sobradinho',\n",
       "       '7990863 SAMU DF 05 USA Ceilândia'], dtype=object)"
      ]
     },
     "execution_count": 69,
     "metadata": {},
     "output_type": "execute_result"
    }
   ],
   "source": [
    "#Hospitais Listados no Data Frame\n",
    "atendimentosconsultas['Hospital'].unique()"
   ]
  },
  {
   "cell_type": "code",
   "execution_count": 73,
   "metadata": {},
   "outputs": [
    {
     "data": {
      "text/plain": [
       "2816741 Farmacia de Alto Custo Asa Sul               18586\n",
       "6926967 Farmacia de Alto Custo Ceilândia             13604\n",
       "0010510 HUB Hospital Universitario de Brasília        9610\n",
       "0010456 HBDF Hospital de Base do Distrito Federal     8718\n",
       "0010499 HRT Hospital Regional de Taguatinga           6407\n",
       "                                                     ...  \n",
       "7991169 SAMU DF 22 USB Samambaia II                      1\n",
       "7990987 SAMU DF 16 USB Planaltina I                      1\n",
       "7990863 SAMU DF 05 USA Ceilândia                         1\n",
       "7991363 SAMU DF 38 USB Recanto das Emas I                1\n",
       "7991029 SAMU DF 17 USB Planaltina II                     1\n",
       "Name: Hospital, Length: 245, dtype: int64"
      ]
     },
     "execution_count": 73,
     "metadata": {},
     "output_type": "execute_result"
    }
   ],
   "source": [
    "#Hospitais\n",
    "atendimentosconsultas['Hospital'].value_counts()"
   ]
  },
  {
   "cell_type": "code",
   "execution_count": 75,
   "metadata": {},
   "outputs": [
    {
     "data": {
      "text/plain": [
       "Consulta Medica em Atenção Especializada                                                                18406\n",
       "Consulta Medica em Atençao Basica                                                                       16066\n",
       "Consulta de Profissionais de Nivel Superior na Atenção Básica (exceto Médico)                           14249\n",
       "Consulta de Profissionais de Nivel Superior na Atenção Especializada (exceto Médico)                     6534\n",
       "Consulta Pré-natal                                                                                       5147\n",
       "                                                                                                        ...  \n",
       "Processamento de Sangue                                                                                     1\n",
       "Redução Incruenta de Fratura Diafisaria dos Ossos do Antebraço                                              1\n",
       "Exames Imunohematologicos em Doador de Sangue                                                               1\n",
       "Samu 192: Envio de Unidade de Suporte Avançado de Vida Terrestre (usa) e/ou Aquatico (equipe de Emba        1\n",
       "Retirada de Cateter Tipo Tenckhoff / Similar de Longa Permanência                                           1\n",
       "Name: Procedimento, Length: 1192, dtype: int64"
      ]
     },
     "execution_count": 75,
     "metadata": {},
     "output_type": "execute_result"
    }
   ],
   "source": [
    "#Número e tipo de Procedimentso feitos nos hospitais\n",
    "atendimentosconsultas['Procedimento'].value_counts()"
   ]
  },
  {
   "cell_type": "code",
   "execution_count": 79,
   "metadata": {},
   "outputs": [
    {
     "data": {
      "text/plain": [
       "Eletivo                                               94691\n",
       "Informação inexistente  (bpa-c)                       77680\n",
       "Urgência                                               2498\n",
       "Acidente no local trabalho ou a serviço da empresa        1\n",
       "Name: Atendimento, dtype: int64"
      ]
     },
     "execution_count": 79,
     "metadata": {},
     "output_type": "execute_result"
    }
   ],
   "source": [
    "#Tipos e numeros de atendimentos\n",
    "atendimentosconsultas['Atendimento'].value_counts()"
   ]
  },
  {
   "cell_type": "code",
   "execution_count": 80,
   "metadata": {},
   "outputs": [
    {
     "data": {
      "text/plain": [
       "Média complexidade    77010\n",
       "Atenção Básica        49867\n",
       "Alta complexidade     46214\n",
       "Não se aplica          1779\n",
       "Name: Complexidade, dtype: int64"
      ]
     },
     "execution_count": 80,
     "metadata": {},
     "output_type": "execute_result"
    }
   ],
   "source": [
    "#Complexidade dos Atendimentos e Consultas\n",
    "atendimentosconsultas['Complexidade'].value_counts()"
   ]
  },
  {
   "cell_type": "code",
   "execution_count": 81,
   "metadata": {},
   "outputs": [
    {
     "data": {
      "text/plain": [
       "<matplotlib.axes._subplots.AxesSubplot at 0x17c81da6c48>"
      ]
     },
     "execution_count": 81,
     "metadata": {},
     "output_type": "execute_result"
    },
    {
     "data": {
      "image/png": "[encoded data removed]",
      "text/plain": [
       "<Figure size 432x288 with 1 Axes>"
      ]
     },
     "metadata": {
      "needs_background": "light"
     },
     "output_type": "display_data"
    }
   ],
   "source": [
    "# Grafico do Tipo de atendimento\n",
    "atendimentosconsultas['Atendimento'].value_counts().plot.bar()"
   ]
  },
  {
   "cell_type": "code",
   "execution_count": 87,
   "metadata": {},
   "outputs": [],
   "source": [
    "#Na coluna hospital aparece apenas 2816741 Farmacia de Alto Custo Asa Sul\n",
    "atendimentosconsultas_hospasasul = atendimentosconsultas[atendimentosconsultas['Hospital'] == '2816741 Farmacia de Alto Custo Asa Sul']"
   ]
  },
  {
   "cell_type": "code",
   "execution_count": 89,
   "metadata": {},
   "outputs": [
    {
     "data": {
      "text/html": [
       "<div>\n",
       "<style scoped>\n",
       "    .dataframe tbody tr th:only-of-type {\n",
       "        vertical-align: middle;\n",
       "    }\n",
       "\n",
       "    .dataframe tbody tr th {\n",
       "        vertical-align: top;\n",
       "    }\n",
       "\n",
       "    .dataframe thead th {\n",
       "        text-align: right;\n",
       "    }\n",
       "</style>\n",
       "<table border=\"1\" class=\"dataframe\">\n",
       "  <thead>\n",
       "    <tr style=\"text-align: right;\">\n",
       "      <th></th>\n",
       "      <th>Hospital</th>\n",
       "      <th>Complexidade</th>\n",
       "      <th>Grupo</th>\n",
       "      <th>Procedimento</th>\n",
       "      <th>Quantidade</th>\n",
       "      <th>Atendimento</th>\n",
       "    </tr>\n",
       "  </thead>\n",
       "  <tbody>\n",
       "    <tr>\n",
       "      <th>56746</th>\n",
       "      <td>2816741 Farmacia de Alto Custo Asa Sul</td>\n",
       "      <td>Alta complexidade</td>\n",
       "      <td>06 - Medicamentos</td>\n",
       "      <td>Tacrolimo 1 Mg (por Capsula)</td>\n",
       "      <td>120</td>\n",
       "      <td>Eletivo</td>\n",
       "    </tr>\n",
       "    <tr>\n",
       "      <th>56747</th>\n",
       "      <td>2816741 Farmacia de Alto Custo Asa Sul</td>\n",
       "      <td>Alta complexidade</td>\n",
       "      <td>06 - Medicamentos</td>\n",
       "      <td>Tacrolimo 1 Mg (por Capsula)</td>\n",
       "      <td>180</td>\n",
       "      <td>Eletivo</td>\n",
       "    </tr>\n",
       "    <tr>\n",
       "      <th>56748</th>\n",
       "      <td>2816741 Farmacia de Alto Custo Asa Sul</td>\n",
       "      <td>Alta complexidade</td>\n",
       "      <td>06 - Medicamentos</td>\n",
       "      <td>Tacrolimo 1 Mg (por Capsula)</td>\n",
       "      <td>240</td>\n",
       "      <td>Eletivo</td>\n",
       "    </tr>\n",
       "    <tr>\n",
       "      <th>56749</th>\n",
       "      <td>2816741 Farmacia de Alto Custo Asa Sul</td>\n",
       "      <td>Alta complexidade</td>\n",
       "      <td>06 - Medicamentos</td>\n",
       "      <td>Tacrolimo 1 Mg (por Capsula)</td>\n",
       "      <td>120</td>\n",
       "      <td>Eletivo</td>\n",
       "    </tr>\n",
       "    <tr>\n",
       "      <th>56750</th>\n",
       "      <td>2816741 Farmacia de Alto Custo Asa Sul</td>\n",
       "      <td>Alta complexidade</td>\n",
       "      <td>06 - Medicamentos</td>\n",
       "      <td>Tacrolimo 1 Mg (por Capsula)</td>\n",
       "      <td>120</td>\n",
       "      <td>Eletivo</td>\n",
       "    </tr>\n",
       "  </tbody>\n",
       "</table>\n",
       "</div>"
      ],
      "text/plain": [
       "                                     Hospital       Complexidade  \\\n",
       "56746  2816741 Farmacia de Alto Custo Asa Sul  Alta complexidade   \n",
       "56747  2816741 Farmacia de Alto Custo Asa Sul  Alta complexidade   \n",
       "56748  2816741 Farmacia de Alto Custo Asa Sul  Alta complexidade   \n",
       "56749  2816741 Farmacia de Alto Custo Asa Sul  Alta complexidade   \n",
       "56750  2816741 Farmacia de Alto Custo Asa Sul  Alta complexidade   \n",
       "\n",
       "                   Grupo                  Procedimento  Quantidade Atendimento  \n",
       "56746  06 - Medicamentos  Tacrolimo 1 Mg (por Capsula)         120     Eletivo  \n",
       "56747  06 - Medicamentos  Tacrolimo 1 Mg (por Capsula)         180     Eletivo  \n",
       "56748  06 - Medicamentos  Tacrolimo 1 Mg (por Capsula)         240     Eletivo  \n",
       "56749  06 - Medicamentos  Tacrolimo 1 Mg (por Capsula)         120     Eletivo  \n",
       "56750  06 - Medicamentos  Tacrolimo 1 Mg (por Capsula)         120     Eletivo  "
      ]
     },
     "execution_count": 89,
     "metadata": {},
     "output_type": "execute_result"
    }
   ],
   "source": [
    "# 5 primeiras linhas\n",
    "atendimentosconsultas_hospasasul.head()"
   ]
  },
  {
   "cell_type": "code",
   "execution_count": 92,
   "metadata": {},
   "outputs": [
    {
     "data": {
      "text/html": [
       "<div>\n",
       "<style scoped>\n",
       "    .dataframe tbody tr th:only-of-type {\n",
       "        vertical-align: middle;\n",
       "    }\n",
       "\n",
       "    .dataframe tbody tr th {\n",
       "        vertical-align: top;\n",
       "    }\n",
       "\n",
       "    .dataframe thead th {\n",
       "        text-align: right;\n",
       "    }\n",
       "</style>\n",
       "<table border=\"1\" class=\"dataframe\">\n",
       "  <thead>\n",
       "    <tr style=\"text-align: right;\">\n",
       "      <th></th>\n",
       "      <th>Hospital</th>\n",
       "      <th>Complexidade</th>\n",
       "      <th>Grupo</th>\n",
       "      <th>Procedimento</th>\n",
       "      <th>Quantidade</th>\n",
       "      <th>Atendimento</th>\n",
       "    </tr>\n",
       "  </thead>\n",
       "  <tbody>\n",
       "    <tr>\n",
       "      <th>92710</th>\n",
       "      <td>2816741 Farmacia de Alto Custo Asa Sul</td>\n",
       "      <td>Alta complexidade</td>\n",
       "      <td>06 - Medicamentos</td>\n",
       "      <td>Bosentana 125mg (por Comrimido Revestido)</td>\n",
       "      <td>60</td>\n",
       "      <td>Eletivo</td>\n",
       "    </tr>\n",
       "    <tr>\n",
       "      <th>92711</th>\n",
       "      <td>2816741 Farmacia de Alto Custo Asa Sul</td>\n",
       "      <td>Alta complexidade</td>\n",
       "      <td>06 - Medicamentos</td>\n",
       "      <td>Bosentana 125mg (por Comrimido Revestido)</td>\n",
       "      <td>60</td>\n",
       "      <td>Eletivo</td>\n",
       "    </tr>\n",
       "    <tr>\n",
       "      <th>94375</th>\n",
       "      <td>2816741 Farmacia de Alto Custo Asa Sul</td>\n",
       "      <td>Alta complexidade</td>\n",
       "      <td>06 - Medicamentos</td>\n",
       "      <td>Abatacepte 125 Mg Injetável (por Seringa Preen...</td>\n",
       "      <td>4</td>\n",
       "      <td>Eletivo</td>\n",
       "    </tr>\n",
       "    <tr>\n",
       "      <th>94376</th>\n",
       "      <td>2816741 Farmacia de Alto Custo Asa Sul</td>\n",
       "      <td>Alta complexidade</td>\n",
       "      <td>06 - Medicamentos</td>\n",
       "      <td>Abatacepte 125 Mg Injetável (por Seringa Preen...</td>\n",
       "      <td>4</td>\n",
       "      <td>Eletivo</td>\n",
       "    </tr>\n",
       "    <tr>\n",
       "      <th>94377</th>\n",
       "      <td>2816741 Farmacia de Alto Custo Asa Sul</td>\n",
       "      <td>Alta complexidade</td>\n",
       "      <td>06 - Medicamentos</td>\n",
       "      <td>Abatacepte 125 Mg Injetável (por Seringa Preen...</td>\n",
       "      <td>0</td>\n",
       "      <td>Eletivo</td>\n",
       "    </tr>\n",
       "  </tbody>\n",
       "</table>\n",
       "</div>"
      ],
      "text/plain": [
       "                                     Hospital       Complexidade  \\\n",
       "92710  2816741 Farmacia de Alto Custo Asa Sul  Alta complexidade   \n",
       "92711  2816741 Farmacia de Alto Custo Asa Sul  Alta complexidade   \n",
       "94375  2816741 Farmacia de Alto Custo Asa Sul  Alta complexidade   \n",
       "94376  2816741 Farmacia de Alto Custo Asa Sul  Alta complexidade   \n",
       "94377  2816741 Farmacia de Alto Custo Asa Sul  Alta complexidade   \n",
       "\n",
       "                   Grupo                                       Procedimento  \\\n",
       "92710  06 - Medicamentos          Bosentana 125mg (por Comrimido Revestido)   \n",
       "92711  06 - Medicamentos          Bosentana 125mg (por Comrimido Revestido)   \n",
       "94375  06 - Medicamentos  Abatacepte 125 Mg Injetável (por Seringa Preen...   \n",
       "94376  06 - Medicamentos  Abatacepte 125 Mg Injetável (por Seringa Preen...   \n",
       "94377  06 - Medicamentos  Abatacepte 125 Mg Injetável (por Seringa Preen...   \n",
       "\n",
       "       Quantidade Atendimento  \n",
       "92710          60     Eletivo  \n",
       "92711          60     Eletivo  \n",
       "94375           4     Eletivo  \n",
       "94376           4     Eletivo  \n",
       "94377           0     Eletivo  "
      ]
     },
     "execution_count": 92,
     "metadata": {},
     "output_type": "execute_result"
    }
   ],
   "source": [
    "#Ultimas 5 linhas\n",
    "atendimentosconsultas_hospasasul.tail()"
   ]
  },
  {
   "cell_type": "code",
   "execution_count": 94,
   "metadata": {},
   "outputs": [
    {
     "data": {
      "text/html": [
       "<div>\n",
       "<style scoped>\n",
       "    .dataframe tbody tr th:only-of-type {\n",
       "        vertical-align: middle;\n",
       "    }\n",
       "\n",
       "    .dataframe tbody tr th {\n",
       "        vertical-align: top;\n",
       "    }\n",
       "\n",
       "    .dataframe thead th {\n",
       "        text-align: right;\n",
       "    }\n",
       "</style>\n",
       "<table border=\"1\" class=\"dataframe\">\n",
       "  <thead>\n",
       "    <tr style=\"text-align: right;\">\n",
       "      <th></th>\n",
       "      <th>Hospital</th>\n",
       "      <th>Complexidade</th>\n",
       "      <th>Grupo</th>\n",
       "      <th>Procedimento</th>\n",
       "      <th>Quantidade</th>\n",
       "      <th>Atendimento</th>\n",
       "    </tr>\n",
       "  </thead>\n",
       "  <tbody>\n",
       "    <tr>\n",
       "      <th>70172</th>\n",
       "      <td>2816741 Farmacia de Alto Custo Asa Sul</td>\n",
       "      <td>Alta complexidade</td>\n",
       "      <td>06 - Medicamentos</td>\n",
       "      <td>Ziprasidona 80 Mg (por Capsula)</td>\n",
       "      <td>30</td>\n",
       "      <td>Eletivo</td>\n",
       "    </tr>\n",
       "    <tr>\n",
       "      <th>63571</th>\n",
       "      <td>2816741 Farmacia de Alto Custo Asa Sul</td>\n",
       "      <td>Alta complexidade</td>\n",
       "      <td>06 - Medicamentos</td>\n",
       "      <td>Deferasirox 500 Mg (por Comprimido)ÿ</td>\n",
       "      <td>30</td>\n",
       "      <td>Eletivo</td>\n",
       "    </tr>\n",
       "    <tr>\n",
       "      <th>91108</th>\n",
       "      <td>2816741 Farmacia de Alto Custo Asa Sul</td>\n",
       "      <td>Alta complexidade</td>\n",
       "      <td>06 - Medicamentos</td>\n",
       "      <td>Bimatoprosta 0,3 Mg/ml Solução Oftálmica (por ...</td>\n",
       "      <td>1</td>\n",
       "      <td>Eletivo</td>\n",
       "    </tr>\n",
       "    <tr>\n",
       "      <th>82196</th>\n",
       "      <td>2816741 Farmacia de Alto Custo Asa Sul</td>\n",
       "      <td>Alta complexidade</td>\n",
       "      <td>06 - Medicamentos</td>\n",
       "      <td>Tenofovir 300 Mg (por Comprimido)</td>\n",
       "      <td>30</td>\n",
       "      <td>Eletivo</td>\n",
       "    </tr>\n",
       "    <tr>\n",
       "      <th>72250</th>\n",
       "      <td>2816741 Farmacia de Alto Custo Asa Sul</td>\n",
       "      <td>Alta complexidade</td>\n",
       "      <td>06 - Medicamentos</td>\n",
       "      <td>Sacarato de Hidroxido Ferrico 100 Mg Injetavel...</td>\n",
       "      <td>2</td>\n",
       "      <td>Eletivo</td>\n",
       "    </tr>\n",
       "  </tbody>\n",
       "</table>\n",
       "</div>"
      ],
      "text/plain": [
       "                                     Hospital       Complexidade  \\\n",
       "70172  2816741 Farmacia de Alto Custo Asa Sul  Alta complexidade   \n",
       "63571  2816741 Farmacia de Alto Custo Asa Sul  Alta complexidade   \n",
       "91108  2816741 Farmacia de Alto Custo Asa Sul  Alta complexidade   \n",
       "82196  2816741 Farmacia de Alto Custo Asa Sul  Alta complexidade   \n",
       "72250  2816741 Farmacia de Alto Custo Asa Sul  Alta complexidade   \n",
       "\n",
       "                   Grupo                                       Procedimento  \\\n",
       "70172  06 - Medicamentos                    Ziprasidona 80 Mg (por Capsula)   \n",
       "63571  06 - Medicamentos               Deferasirox 500 Mg (por Comprimido)ÿ   \n",
       "91108  06 - Medicamentos  Bimatoprosta 0,3 Mg/ml Solução Oftálmica (por ...   \n",
       "82196  06 - Medicamentos                  Tenofovir 300 Mg (por Comprimido)   \n",
       "72250  06 - Medicamentos  Sacarato de Hidroxido Ferrico 100 Mg Injetavel...   \n",
       "\n",
       "       Quantidade Atendimento  \n",
       "70172          30     Eletivo  \n",
       "63571          30     Eletivo  \n",
       "91108           1     Eletivo  \n",
       "82196          30     Eletivo  \n",
       "72250           2     Eletivo  "
      ]
     },
     "execution_count": 94,
     "metadata": {},
     "output_type": "execute_result"
    }
   ],
   "source": [
    "#Listar linhas aleatorias\n",
    "atendimentosconsultas_hospasasul.sample(5)"
   ]
  },
  {
   "cell_type": "code",
   "execution_count": 97,
   "metadata": {},
   "outputs": [
    {
     "data": {
      "text/plain": [
       "Formoterol 12 Mcg + Budesonida 400 Mcg Po Inalante (por Frasco de 60 Doses)    1390\n",
       "Atorvastatina 20 Mg (por Comprimido)                                            860\n",
       "Azatioprina 50 Mg (por Comprimido)                                              776\n",
       "Leflunomida 20 Mg (por Comprimido)                                              694\n",
       "Gabapentina 300 Mg (por Capsula)                                                638\n",
       "                                                                               ... \n",
       "Miglustate 100 Mg (por Capsula)                                                   1\n",
       "Danazol 200 Mg (por Capsula)                                                      1\n",
       "Imunoglobulina Anti-hepatite B 600 Ui Injetavel (por Frasco)                      1\n",
       "Entecavir 1.0 Mg (por Comprimido)                                                 1\n",
       "Alfainterferona 2b 5.000.000 Ui Injetavel (por Frasco-ampola)                     1\n",
       "Name: Procedimento, Length: 154, dtype: int64"
      ]
     },
     "execution_count": 97,
     "metadata": {},
     "output_type": "execute_result"
    }
   ],
   "source": [
    "#Quantidade de procedimento no 2816741 Farmacia de Alto Custo Asa Sul     \n",
    "atendimentosconsultas_hospasasul['Procedimento'].value_counts()"
   ]
  },
  {
   "cell_type": "code",
   "execution_count": 100,
   "metadata": {},
   "outputs": [
    {
     "data": {
      "text/plain": [
       "Hospital        776\n",
       "Complexidade    776\n",
       "Grupo           776\n",
       "Procedimento    776\n",
       "Quantidade      776\n",
       "Atendimento     776\n",
       "dtype: int64"
      ]
     },
     "execution_count": 100,
     "metadata": {},
     "output_type": "execute_result"
    }
   ],
   "source": [
    "#Podemos subdividir o data frame com base em pedaço de palavra\n",
    "atendimentosconsultas_hospasasul[atendimentosconsultas_hospasasul['Procedimento'].str.contains('Azati')].count()"
   ]
  },
  {
   "cell_type": "code",
   "execution_count": 104,
   "metadata": {},
   "outputs": [],
   "source": [
    "#Dividir o Data frame apenas pelo atendimento\n",
    "atendimentoconsultas_urgen = atendimentosconsultas[atendimentosconsultas['Atendimento'] == 'Urgência']\n"
   ]
  },
  {
   "cell_type": "code",
   "execution_count": 105,
   "metadata": {},
   "outputs": [
    {
     "data": {
      "text/html": [
       "<div>\n",
       "<style scoped>\n",
       "    .dataframe tbody tr th:only-of-type {\n",
       "        vertical-align: middle;\n",
       "    }\n",
       "\n",
       "    .dataframe tbody tr th {\n",
       "        vertical-align: top;\n",
       "    }\n",
       "\n",
       "    .dataframe thead th {\n",
       "        text-align: right;\n",
       "    }\n",
       "</style>\n",
       "<table border=\"1\" class=\"dataframe\">\n",
       "  <thead>\n",
       "    <tr style=\"text-align: right;\">\n",
       "      <th></th>\n",
       "      <th>Hospital</th>\n",
       "      <th>Complexidade</th>\n",
       "      <th>Grupo</th>\n",
       "      <th>Procedimento</th>\n",
       "      <th>Quantidade</th>\n",
       "      <th>Atendimento</th>\n",
       "    </tr>\n",
       "  </thead>\n",
       "  <tbody>\n",
       "    <tr>\n",
       "      <th>94691</th>\n",
       "      <td>2779056 Idr</td>\n",
       "      <td>Média complexidade</td>\n",
       "      <td>02 - Procedimentos com Finalidade Diagnóstica</td>\n",
       "      <td>Determinação de Capacidade de Fixação do Ferro</td>\n",
       "      <td>1</td>\n",
       "      <td>Urgência</td>\n",
       "    </tr>\n",
       "    <tr>\n",
       "      <th>94692</th>\n",
       "      <td>0010456 HBDF Hospital de Base do Distrito Federal</td>\n",
       "      <td>Média complexidade</td>\n",
       "      <td>02 - Procedimentos com Finalidade Diagnóstica</td>\n",
       "      <td>Dosagem de Calcio</td>\n",
       "      <td>1</td>\n",
       "      <td>Urgência</td>\n",
       "    </tr>\n",
       "    <tr>\n",
       "      <th>94693</th>\n",
       "      <td>0010456 HBDF Hospital de Base do Distrito Federal</td>\n",
       "      <td>Média complexidade</td>\n",
       "      <td>02 - Procedimentos com Finalidade Diagnóstica</td>\n",
       "      <td>Dosagem de Calcio</td>\n",
       "      <td>1</td>\n",
       "      <td>Urgência</td>\n",
       "    </tr>\n",
       "    <tr>\n",
       "      <th>94694</th>\n",
       "      <td>0010456 HBDF Hospital de Base do Distrito Federal</td>\n",
       "      <td>Média complexidade</td>\n",
       "      <td>02 - Procedimentos com Finalidade Diagnóstica</td>\n",
       "      <td>Dosagem de Calcio</td>\n",
       "      <td>1</td>\n",
       "      <td>Urgência</td>\n",
       "    </tr>\n",
       "    <tr>\n",
       "      <th>94695</th>\n",
       "      <td>0010456 HBDF Hospital de Base do Distrito Federal</td>\n",
       "      <td>Média complexidade</td>\n",
       "      <td>02 - Procedimentos com Finalidade Diagnóstica</td>\n",
       "      <td>Dosagem de Calcio</td>\n",
       "      <td>1</td>\n",
       "      <td>Urgência</td>\n",
       "    </tr>\n",
       "  </tbody>\n",
       "</table>\n",
       "</div>"
      ],
      "text/plain": [
       "                                                Hospital        Complexidade  \\\n",
       "94691                                        2779056 Idr  Média complexidade   \n",
       "94692  0010456 HBDF Hospital de Base do Distrito Federal  Média complexidade   \n",
       "94693  0010456 HBDF Hospital de Base do Distrito Federal  Média complexidade   \n",
       "94694  0010456 HBDF Hospital de Base do Distrito Federal  Média complexidade   \n",
       "94695  0010456 HBDF Hospital de Base do Distrito Federal  Média complexidade   \n",
       "\n",
       "                                               Grupo  \\\n",
       "94691  02 - Procedimentos com Finalidade Diagnóstica   \n",
       "94692  02 - Procedimentos com Finalidade Diagnóstica   \n",
       "94693  02 - Procedimentos com Finalidade Diagnóstica   \n",
       "94694  02 - Procedimentos com Finalidade Diagnóstica   \n",
       "94695  02 - Procedimentos com Finalidade Diagnóstica   \n",
       "\n",
       "                                         Procedimento  Quantidade Atendimento  \n",
       "94691  Determinação de Capacidade de Fixação do Ferro           1    Urgência  \n",
       "94692                               Dosagem de Calcio           1    Urgência  \n",
       "94693                               Dosagem de Calcio           1    Urgência  \n",
       "94694                               Dosagem de Calcio           1    Urgência  \n",
       "94695                               Dosagem de Calcio           1    Urgência  "
      ]
     },
     "execution_count": 105,
     "metadata": {},
     "output_type": "execute_result"
    }
   ],
   "source": [
    "#Apenas atendimento de urgência\n",
    "atendimentoconsultas_urgen.head()"
   ]
  },
  {
   "cell_type": "code",
   "execution_count": 106,
   "metadata": {},
   "outputs": [
    {
     "data": {
      "text/plain": [
       "0010456 HBDF Hospital de Base do Distrito Federal       1565\n",
       "0010529 HRPl Hospital Regional de Planaltina             303\n",
       "5717515 HRSM Hospital Regional de Santa Maria            178\n",
       "0010537 HMIB Hospital Materno Infantil de Brasília       169\n",
       "3206874 Banco de Olhos do Distrito Federal               127\n",
       "2645157 HRPa Hospital Regional do Paranoá                 62\n",
       "3276678 Instituto de Cardiologia do Distrito Federal      38\n",
       "2779056 Idr                                               21\n",
       "0010782 UBS 1 Santa Maria                                 15\n",
       "0011312 Cdrt                                              10\n",
       "0011088 UBS 1 Planaltina                                   4\n",
       "3018520 Hospital São Francisco                             2\n",
       "0010510 HUB Hospital Universitario de Brasília             1\n",
       "3144593 UBS 5 Santa Maria                                  1\n",
       "0010804 UBS 01 Recanto das Emas                            1\n",
       "2649527 HAB Hospital de Apoio de Brasília                  1\n",
       "Name: Hospital, dtype: int64"
      ]
     },
     "execution_count": 106,
     "metadata": {},
     "output_type": "execute_result"
    }
   ],
   "source": [
    "#Quantidade de Urgência por Hospital\n",
    "atendimentoconsultas_urgen['Hospital'].value_counts()"
   ]
  },
  {
   "cell_type": "code",
   "execution_count": 110,
   "metadata": {},
   "outputs": [
    {
     "data": {
      "text/plain": [
       "Urgência    2498\n",
       "Name: Atendimento, dtype: int64"
      ]
     },
     "execution_count": 110,
     "metadata": {},
     "output_type": "execute_result"
    }
   ],
   "source": [
    "#Quantos atendimentos de urgência\n",
    "atendimentoconsultas_urgen['Atendimento'].value_counts()"
   ]
  },
  {
   "cell_type": "code",
   "execution_count": 111,
   "metadata": {},
   "outputs": [
    {
     "data": {
      "text/plain": [
       "<matplotlib.axes._subplots.AxesSubplot at 0x17caf89fd48>"
      ]
     },
     "execution_count": 111,
     "metadata": {},
     "output_type": "execute_result"
    },
    {
     "data": {
      "image/png": "[encoded data removed]",
      "text/plain": [
       "<Figure size 432x288 with 1 Axes>"
      ]
     },
     "metadata": {
      "needs_background": "light"
     },
     "output_type": "display_data"
    }
   ],
   "source": [
    "#Grafico Hospitaisbarras horizontais\n",
    "atendimentoconsultas_urgen['Hospital'].value_counts().plot.barh()"
   ]
  },
  {
   "cell_type": "code",
   "execution_count": 115,
   "metadata": {},
   "outputs": [
    {
     "data": {
      "text/plain": [
       "<matplotlib.axes._subplots.AxesSubplot at 0x17caf9c7f48>"
      ]
     },
     "execution_count": 115,
     "metadata": {},
     "output_type": "execute_result"
    },
    {
     "data": {
      "image/png": "[encoded data removed]",
      "text/plain": [
       "<Figure size 432x288 with 1 Axes>"
      ]
     },
     "metadata": {
      "needs_background": "light"
     },
     "output_type": "display_data"
    }
   ],
   "source": [
    "#Melhorar o grafico iverter a ordem e titulo\n",
    "atendimentoconsultas_urgen['Hospital'].value_counts(ascending=True).plot.barh(title= 'Atendimento Consulta de Urgência')"
   ]
  },
  {
   "cell_type": "code",
   "execution_count": null,
   "metadata": {},
   "outputs": [],
   "source": []
  }
 ],
 "metadata": {
  "kernelspec": {
   "display_name": "Python 3",
   "language": "python",
   "name": "python3"
  },
  "language_info": {
   "codemirror_mode": {
    "name": "ipython",
    "version": 3
   },
   "file_extension": ".py",
   "mimetype": "text/x-python",
   "name": "python",
   "nbconvert_exporter": "python",
   "pygments_lexer": "ipython3",
   "version": "3.7.6"
  }
 },
 "nbformat": 4,
 "nbformat_minor": 4
}
